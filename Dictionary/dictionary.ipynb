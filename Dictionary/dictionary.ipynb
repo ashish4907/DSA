{
 "cells": [
  {
   "cell_type": "code",
   "execution_count": 1,
   "metadata": {},
   "outputs": [
    {
     "name": "stdout",
     "output_type": "stream",
     "text": [
      "{'a': 1, 'b': 2, 'c': 3}\n"
     ]
    }
   ],
   "source": [
    "dict = {\"a\" : 1, \"b\" : 2, \"c\" : 3}\n",
    "print(dict)"
   ]
  },
  {
   "cell_type": "code",
   "execution_count": 2,
   "metadata": {},
   "outputs": [
    {
     "name": "stdout",
     "output_type": "stream",
     "text": [
      "1\n"
     ]
    }
   ],
   "source": [
    "# accessing the value of a key\n",
    "print(dict[\"a\"])"
   ]
  },
  {
   "cell_type": "code",
   "execution_count": 3,
   "metadata": {},
   "outputs": [
    {
     "name": "stdout",
     "output_type": "stream",
     "text": [
      "{'a': 10, 'b': 2, 'c': 3}\n"
     ]
    }
   ],
   "source": [
    "# change the value of a key\n",
    "dict[\"a\"] = 10\n",
    "print(dict)"
   ]
  },
  {
   "cell_type": "code",
   "execution_count": 4,
   "metadata": {},
   "outputs": [
    {
     "name": "stdout",
     "output_type": "stream",
     "text": [
      "{'a': 10, 'b': 2, 'c': 3, 'd': 4}\n"
     ]
    }
   ],
   "source": [
    "# add items \n",
    "dict[\"d\"] = 4\n",
    "print(dict)"
   ]
  },
  {
   "cell_type": "code",
   "execution_count": 5,
   "metadata": {},
   "outputs": [
    {
     "name": "stdout",
     "output_type": "stream",
     "text": [
      "{'a': 10, 'b': 2, 'c': 3}\n"
     ]
    }
   ],
   "source": [
    "# remove items\n",
    "del dict[\"d\"]\n",
    "print(dict)"
   ]
  },
  {
   "cell_type": "code",
   "execution_count": 6,
   "metadata": {},
   "outputs": [
    {
     "name": "stdout",
     "output_type": "stream",
     "text": [
      "a : 10\n",
      "b : 2\n",
      "c : 3\n"
     ]
    }
   ],
   "source": [
    "# loop through the dictionary\n",
    "for key in dict:\n",
    "    print(key, \":\", dict[key])"
   ]
  },
  {
   "cell_type": "code",
   "execution_count": 7,
   "metadata": {},
   "outputs": [
    {
     "name": "stdout",
     "output_type": "stream",
     "text": [
      "{'a': 10, 'b': 2, 'c': 3}\n"
     ]
    }
   ],
   "source": [
    "# copy a dictionary\n",
    "dict2 = dict.copy()\n",
    "print(dict2)"
   ]
  },
  {
   "cell_type": "code",
   "execution_count": 8,
   "metadata": {},
   "outputs": [
    {
     "name": "stdout",
     "output_type": "stream",
     "text": [
      "{'a': {'b': {'c': 1}}}\n"
     ]
    }
   ],
   "source": [
    "# nested dictionary\n",
    "dict3 = {\n",
    "    \"a\" : {\n",
    "        \"b\" : {\n",
    "            \"c\" : 1\n",
    "        }\n",
    "    }\n",
    "}\n",
    "print(dict3)"
   ]
  },
  {
   "cell_type": "code",
   "execution_count": 10,
   "metadata": {},
   "outputs": [
    {
     "name": "stdout",
     "output_type": "stream",
     "text": [
      "{}\n"
     ]
    }
   ],
   "source": [
    "# dictionary methods\n",
    "dict4 = {\n",
    "    \"a\" : 1,\n",
    "    \"b\" : 2,\n",
    "    \"c\" : 3\n",
    "}\n",
    "\n",
    "dict4.clear()\n",
    "print(dict4)"
   ]
  },
  {
   "cell_type": "code",
   "execution_count": null,
   "metadata": {},
   "outputs": [],
   "source": []
  }
 ],
 "metadata": {
  "interpreter": {
   "hash": "c0f70214c0dd213f07f54ee5d6e0ea644bdbba35113c9bfe8aaa0d1db03ad5dd"
  },
  "kernelspec": {
   "display_name": "Python 3.8.8 64-bit ('base': conda)",
   "language": "python",
   "name": "python3"
  },
  "language_info": {
   "codemirror_mode": {
    "name": "ipython",
    "version": 3
   },
   "file_extension": ".py",
   "mimetype": "text/x-python",
   "name": "python",
   "nbconvert_exporter": "python",
   "pygments_lexer": "ipython3",
   "version": "3.8.8"
  },
  "orig_nbformat": 4
 },
 "nbformat": 4,
 "nbformat_minor": 2
}
